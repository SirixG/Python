{
 "cells": [
  {
   "cell_type": "markdown",
   "metadata": {},
   "source": [
    "# Pandas II"
   ]
  },
  {
   "cell_type": "code",
   "execution_count": 3,
   "metadata": {},
   "outputs": [
    {
     "name": "stdout",
     "output_type": "stream",
     "text": [
      "   0    1   2   3    4     5      6   7  8\n",
      "0  6  148  72  35    0  33.6  0.627  50  1\n",
      "1  1   85  66  29    0  26.6  0.351  31  0\n",
      "2  8  183  64   0    0  23.3  0.672  32  1\n",
      "3  1   89  66  23   94  28.1  0.167  21  0\n",
      "4  0  137  40  35  168  43.1  2.288  33  1\n"
     ]
    }
   ],
   "source": [
    "import pandas as pd\n",
    "import numpy as np\n",
    "url='https://raw.githubusercontent.com/jbrownlee/Datasets/master/pima-indians-diabetes.csv'\n",
    "df= pd.read_csv(url,sep=',', header=None)\n",
    "print(df.head())"
   ]
  },
  {
   "cell_type": "code",
   "execution_count": 6,
   "metadata": {},
   "outputs": [
    {
     "name": "stdout",
     "output_type": "stream",
     "text": [
      "Imspección cantidad de filas y columnas:  (768, 9)\n",
      "Cantidad de filas:  768\n",
      "Cantidad de columnas:  9\n"
     ]
    }
   ],
   "source": [
    "print('Imspección cantidad de filas y columnas: ', df.shape)\n",
    "print('Cantidad de filas: ',df.shape[0])\n",
    "print('Cantidad de columnas: ',df.shape[1])"
   ]
  },
  {
   "cell_type": "markdown",
   "metadata": {},
   "source": [
    "# Que significan las Variables?"
   ]
  },
  {
   "cell_type": "markdown",
   "metadata": {},
   "source": [
    "1. Numero de veces embarazada (NEMB).\n",
    "2. Concentracion de plasma de glucosa (GLU)\n",
    "3. Presion arterial diastolica en mm Hg (PART).\n",
    "4. Grosor de piel en triceps en mm (GROS).\n",
    "5. 2-Hour serum insulin en mu U/ml (HUR).\n",
    "6. BMI (peso kg/(altura en m)^2 en (BMI).\n",
    "7. Funcion de prediccion de Diabetes (FPRED)\n",
    "8. Edad (años) (AGE).\n",
    "9. Variable de clase (0 or 1) (CLASS)."
   ]
  },
  {
   "cell_type": "markdown",
   "metadata": {},
   "source": []
  }
 ],
 "metadata": {
  "kernelspec": {
   "display_name": "Python 3",
   "language": "python",
   "name": "python3"
  },
  "language_info": {
   "codemirror_mode": {
    "name": "ipython",
    "version": 3
   },
   "file_extension": ".py",
   "mimetype": "text/x-python",
   "name": "python",
   "nbconvert_exporter": "python",
   "pygments_lexer": "ipython3",
   "version": "3.12.4"
  }
 },
 "nbformat": 4,
 "nbformat_minor": 2
}
