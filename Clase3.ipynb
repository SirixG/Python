{
 "cells": [
  {
   "cell_type": "markdown",
   "metadata": {},
   "source": [
    "PANDAS"
   ]
  },
  {
   "cell_type": "code",
   "execution_count": 149,
   "metadata": {},
   "outputs": [],
   "source": [
    "import pandas as pd\n",
    "import numpy as np"
   ]
  },
  {
   "cell_type": "code",
   "execution_count": 5,
   "metadata": {},
   "outputs": [
    {
     "name": "stdout",
     "output_type": "stream",
     "text": [
      "[50, 52, 54, 56, 58, 60, 62, 64, 66, 68]\n"
     ]
    }
   ],
   "source": [
    "Numeros = range(50,70,2)\n",
    "print(list(Numeros))"
   ]
  },
  {
   "cell_type": "code",
   "execution_count": 8,
   "metadata": {},
   "outputs": [
    {
     "name": "stdout",
     "output_type": "stream",
     "text": [
      "0    50\n",
      "1    52\n",
      "2    54\n",
      "3    56\n",
      "4    58\n",
      "5    60\n",
      "6    62\n",
      "7    64\n",
      "8    66\n",
      "9    68\n",
      "dtype: int64\n"
     ]
    }
   ],
   "source": [
    "Numeros_series = pd.Series(Numeros)\n",
    "print(Numeros_series)"
   ]
  },
  {
   "cell_type": "code",
   "execution_count": 11,
   "metadata": {},
   "outputs": [
    {
     "name": "stdout",
     "output_type": "stream",
     "text": [
      "54\n"
     ]
    }
   ],
   "source": [
    "print(Numeros_series[2])"
   ]
  },
  {
   "cell_type": "code",
   "execution_count": 13,
   "metadata": {},
   "outputs": [
    {
     "name": "stdout",
     "output_type": "stream",
     "text": [
      "RangeIndex(start=0, stop=10, step=1)\n"
     ]
    }
   ],
   "source": [
    "print(Numeros_series.index)"
   ]
  },
  {
   "cell_type": "code",
   "execution_count": 15,
   "metadata": {},
   "outputs": [
    {
     "name": "stdout",
     "output_type": "stream",
     "text": [
      "[50 52 54 56 58 60 62 64 66 68]\n"
     ]
    }
   ],
   "source": [
    "print(Numeros_series.values)"
   ]
  },
  {
   "cell_type": "code",
   "execution_count": 19,
   "metadata": {},
   "outputs": [
    {
     "name": "stdout",
     "output_type": "stream",
     "text": [
      "primero    50\n",
      "segunto    52\n",
      "tercero    54\n",
      "cuarto     56\n",
      "quinto     58\n",
      "sexto      60\n",
      "septimo    62\n",
      "octavo     64\n",
      "noveno     66\n",
      "decimo     68\n",
      "dtype: int64\n"
     ]
    }
   ],
   "source": [
    "Numeros_en_texto = ['primero','segunto','tercero','cuarto','quinto','sexto','septimo','octavo','noveno','decimo']\n",
    "Numeros_series_2 = pd.Series(Numeros,index=Numeros_en_texto)\n",
    "Numeros_series_2\n",
    "print(Numeros_series_2)"
   ]
  },
  {
   "cell_type": "markdown",
   "metadata": {},
   "source": [
    "DataFrame"
   ]
  },
  {
   "cell_type": "code",
   "execution_count": 21,
   "metadata": {},
   "outputs": [],
   "source": [
    "modelos = ['A1','A2','A3','A4','A5']\n",
    "peso = [3500,3600,3800,3900,3200]\n",
    "precios = [10000,11000,15000,12000,8000]\n"
   ]
  },
  {
   "cell_type": "code",
   "execution_count": 26,
   "metadata": {},
   "outputs": [
    {
     "name": "stdout",
     "output_type": "stream",
     "text": [
      "A1    3500\n",
      "A2    3600\n",
      "A3    3800\n",
      "A4    3900\n",
      "A5    3200\n",
      "dtype: int64 \n",
      "\n",
      "A1    10000\n",
      "A2    11000\n",
      "A3    15000\n",
      "A4    12000\n",
      "A5     8000\n",
      "dtype: int64\n"
     ]
    }
   ],
   "source": [
    "#Creo las series que necesito par armar mi dataframe\n",
    "\n",
    "peso_series = pd.Series(peso,index=modelos)\n",
    "precios_series = pd.Series(precios,index=modelos)\n",
    "\n",
    "print(peso_series,\"\\n\")\n",
    "print(precios_series)"
   ]
  },
  {
   "cell_type": "code",
   "execution_count": 28,
   "metadata": {},
   "outputs": [
    {
     "data": {
      "text/html": [
       "<div>\n",
       "<style scoped>\n",
       "    .dataframe tbody tr th:only-of-type {\n",
       "        vertical-align: middle;\n",
       "    }\n",
       "\n",
       "    .dataframe tbody tr th {\n",
       "        vertical-align: top;\n",
       "    }\n",
       "\n",
       "    .dataframe thead th {\n",
       "        text-align: right;\n",
       "    }\n",
       "</style>\n",
       "<table border=\"1\" class=\"dataframe\">\n",
       "  <thead>\n",
       "    <tr style=\"text-align: right;\">\n",
       "      <th></th>\n",
       "      <th>Peso</th>\n",
       "      <th>Precios</th>\n",
       "    </tr>\n",
       "  </thead>\n",
       "  <tbody>\n",
       "    <tr>\n",
       "      <th>A1</th>\n",
       "      <td>3500</td>\n",
       "      <td>10000</td>\n",
       "    </tr>\n",
       "    <tr>\n",
       "      <th>A2</th>\n",
       "      <td>3600</td>\n",
       "      <td>11000</td>\n",
       "    </tr>\n",
       "    <tr>\n",
       "      <th>A3</th>\n",
       "      <td>3800</td>\n",
       "      <td>15000</td>\n",
       "    </tr>\n",
       "    <tr>\n",
       "      <th>A4</th>\n",
       "      <td>3900</td>\n",
       "      <td>12000</td>\n",
       "    </tr>\n",
       "    <tr>\n",
       "      <th>A5</th>\n",
       "      <td>3200</td>\n",
       "      <td>8000</td>\n",
       "    </tr>\n",
       "  </tbody>\n",
       "</table>\n",
       "</div>"
      ],
      "text/plain": [
       "    Peso  Precios\n",
       "A1  3500    10000\n",
       "A2  3600    11000\n",
       "A3  3800    15000\n",
       "A4  3900    12000\n",
       "A5  3200     8000"
      ]
     },
     "execution_count": 28,
     "metadata": {},
     "output_type": "execute_result"
    }
   ],
   "source": [
    "#Construir el dataframe combinando las series\n",
    "autos = pd.DataFrame({'Peso':peso_series, 'Precios':precios_series})\n",
    "autos"
   ]
  },
  {
   "cell_type": "code",
   "execution_count": 41,
   "metadata": {},
   "outputs": [
    {
     "name": "stdout",
     "output_type": "stream",
     "text": [
      "    Peso  Precios\n",
      "A1  3500    10000\n",
      "A2  3600    11000 \n",
      "\n",
      "(5, 2)\n",
      "    Peso  Precios\n",
      "A4  3900    12000\n",
      "A5  3200     8000\n",
      "              Peso       Precios\n",
      "count     5.000000      5.000000\n",
      "mean   3600.000000  11200.000000\n",
      "std     273.861279   2588.435821\n",
      "min    3200.000000   8000.000000\n",
      "25%    3500.000000  10000.000000\n",
      "50%    3600.000000  11000.000000\n",
      "75%    3800.000000  12000.000000\n",
      "max    3900.000000  15000.000000 \n",
      "\n",
      "<class 'pandas.core.frame.DataFrame'>\n",
      "Index: 5 entries, A1 to A5\n",
      "Data columns (total 2 columns):\n",
      " #   Column   Non-Null Count  Dtype\n",
      "---  ------   --------------  -----\n",
      " 0   Peso     5 non-null      int64\n",
      " 1   Precios  5 non-null      int64\n",
      "dtypes: int64(2)\n",
      "memory usage: 292.0+ bytes\n"
     ]
    },
    {
     "data": {
      "text/plain": [
       "A1    3500\n",
       "A2    3600\n",
       "A3    3800\n",
       "A4    3900\n",
       "A5    3200\n",
       "Name: Peso, dtype: int64"
      ]
     },
     "execution_count": 41,
     "metadata": {},
     "output_type": "execute_result"
    }
   ],
   "source": [
    "print(autos.head(2),'\\n')\n",
    "print(autos.shape)\n",
    "print(autos.tail(2))\n",
    "print(autos.describe(),'\\n')\n",
    "autos.info()\n",
    "autos[\"Peso\"]"
   ]
  },
  {
   "cell_type": "code",
   "execution_count": 49,
   "metadata": {},
   "outputs": [
    {
     "name": "stdout",
     "output_type": "stream",
     "text": [
      "A1    2.86\n",
      "A2    3.06\n",
      "A3    3.95\n",
      "A4    3.08\n",
      "A5    2.50\n",
      "Name: Precio_por_Kg, dtype: float64\n"
     ]
    },
    {
     "data": {
      "text/html": [
       "<div>\n",
       "<style scoped>\n",
       "    .dataframe tbody tr th:only-of-type {\n",
       "        vertical-align: middle;\n",
       "    }\n",
       "\n",
       "    .dataframe tbody tr th {\n",
       "        vertical-align: top;\n",
       "    }\n",
       "\n",
       "    .dataframe thead th {\n",
       "        text-align: right;\n",
       "    }\n",
       "</style>\n",
       "<table border=\"1\" class=\"dataframe\">\n",
       "  <thead>\n",
       "    <tr style=\"text-align: right;\">\n",
       "      <th></th>\n",
       "      <th>Peso</th>\n",
       "      <th>Precios</th>\n",
       "      <th>Precio_por_Kg</th>\n",
       "    </tr>\n",
       "  </thead>\n",
       "  <tbody>\n",
       "    <tr>\n",
       "      <th>A1</th>\n",
       "      <td>3500</td>\n",
       "      <td>10000</td>\n",
       "      <td>2.86</td>\n",
       "    </tr>\n",
       "    <tr>\n",
       "      <th>A2</th>\n",
       "      <td>3600</td>\n",
       "      <td>11000</td>\n",
       "      <td>3.06</td>\n",
       "    </tr>\n",
       "    <tr>\n",
       "      <th>A3</th>\n",
       "      <td>3800</td>\n",
       "      <td>15000</td>\n",
       "      <td>3.95</td>\n",
       "    </tr>\n",
       "    <tr>\n",
       "      <th>A4</th>\n",
       "      <td>3900</td>\n",
       "      <td>12000</td>\n",
       "      <td>3.08</td>\n",
       "    </tr>\n",
       "    <tr>\n",
       "      <th>A5</th>\n",
       "      <td>3200</td>\n",
       "      <td>8000</td>\n",
       "      <td>2.50</td>\n",
       "    </tr>\n",
       "  </tbody>\n",
       "</table>\n",
       "</div>"
      ],
      "text/plain": [
       "    Peso  Precios  Precio_por_Kg\n",
       "A1  3500    10000           2.86\n",
       "A2  3600    11000           3.06\n",
       "A3  3800    15000           3.95\n",
       "A4  3900    12000           3.08\n",
       "A5  3200     8000           2.50"
      ]
     },
     "execution_count": 49,
     "metadata": {},
     "output_type": "execute_result"
    }
   ],
   "source": [
    "autos['Precio_por_Kg'] = (autos['Precios']/autos['Peso']).round(2)\n",
    "print(autos['Precio_por_Kg'])\n",
    "autos\n"
   ]
  },
  {
   "cell_type": "code",
   "execution_count": 51,
   "metadata": {},
   "outputs": [
    {
     "data": {
      "text/html": [
       "<div>\n",
       "<style scoped>\n",
       "    .dataframe tbody tr th:only-of-type {\n",
       "        vertical-align: middle;\n",
       "    }\n",
       "\n",
       "    .dataframe tbody tr th {\n",
       "        vertical-align: top;\n",
       "    }\n",
       "\n",
       "    .dataframe thead th {\n",
       "        text-align: right;\n",
       "    }\n",
       "</style>\n",
       "<table border=\"1\" class=\"dataframe\">\n",
       "  <thead>\n",
       "    <tr style=\"text-align: right;\">\n",
       "      <th></th>\n",
       "      <th>Peso</th>\n",
       "      <th>Precios</th>\n",
       "      <th>Precio_por_Kg</th>\n",
       "    </tr>\n",
       "    <tr>\n",
       "      <th>Modelos</th>\n",
       "      <th></th>\n",
       "      <th></th>\n",
       "      <th></th>\n",
       "    </tr>\n",
       "  </thead>\n",
       "  <tbody>\n",
       "    <tr>\n",
       "      <th>A1</th>\n",
       "      <td>3500</td>\n",
       "      <td>10000</td>\n",
       "      <td>2.86</td>\n",
       "    </tr>\n",
       "    <tr>\n",
       "      <th>A2</th>\n",
       "      <td>3600</td>\n",
       "      <td>11000</td>\n",
       "      <td>3.06</td>\n",
       "    </tr>\n",
       "    <tr>\n",
       "      <th>A3</th>\n",
       "      <td>3800</td>\n",
       "      <td>15000</td>\n",
       "      <td>3.95</td>\n",
       "    </tr>\n",
       "    <tr>\n",
       "      <th>A4</th>\n",
       "      <td>3900</td>\n",
       "      <td>12000</td>\n",
       "      <td>3.08</td>\n",
       "    </tr>\n",
       "    <tr>\n",
       "      <th>A5</th>\n",
       "      <td>3200</td>\n",
       "      <td>8000</td>\n",
       "      <td>2.50</td>\n",
       "    </tr>\n",
       "  </tbody>\n",
       "</table>\n",
       "</div>"
      ],
      "text/plain": [
       "         Peso  Precios  Precio_por_Kg\n",
       "Modelos                              \n",
       "A1       3500    10000           2.86\n",
       "A2       3600    11000           3.06\n",
       "A3       3800    15000           3.95\n",
       "A4       3900    12000           3.08\n",
       "A5       3200     8000           2.50"
      ]
     },
     "execution_count": 51,
     "metadata": {},
     "output_type": "execute_result"
    }
   ],
   "source": [
    "autos.rename_axis('Modelos')"
   ]
  },
  {
   "cell_type": "code",
   "execution_count": 53,
   "metadata": {},
   "outputs": [
    {
     "data": {
      "text/html": [
       "<div>\n",
       "<style scoped>\n",
       "    .dataframe tbody tr th:only-of-type {\n",
       "        vertical-align: middle;\n",
       "    }\n",
       "\n",
       "    .dataframe tbody tr th {\n",
       "        vertical-align: top;\n",
       "    }\n",
       "\n",
       "    .dataframe thead th {\n",
       "        text-align: right;\n",
       "    }\n",
       "</style>\n",
       "<table border=\"1\" class=\"dataframe\">\n",
       "  <thead>\n",
       "    <tr style=\"text-align: right;\">\n",
       "      <th></th>\n",
       "      <th>Peso</th>\n",
       "      <th>Precios</th>\n",
       "      <th>Precio_por_Kg</th>\n",
       "    </tr>\n",
       "  </thead>\n",
       "  <tbody>\n",
       "    <tr>\n",
       "      <th>A1</th>\n",
       "      <td>3500</td>\n",
       "      <td>10000</td>\n",
       "      <td>2.86</td>\n",
       "    </tr>\n",
       "    <tr>\n",
       "      <th>A2</th>\n",
       "      <td>3600</td>\n",
       "      <td>11000</td>\n",
       "      <td>3.06</td>\n",
       "    </tr>\n",
       "    <tr>\n",
       "      <th>A3</th>\n",
       "      <td>3800</td>\n",
       "      <td>15000</td>\n",
       "      <td>3.95</td>\n",
       "    </tr>\n",
       "    <tr>\n",
       "      <th>A4</th>\n",
       "      <td>3900</td>\n",
       "      <td>12000</td>\n",
       "      <td>3.08</td>\n",
       "    </tr>\n",
       "    <tr>\n",
       "      <th>A5</th>\n",
       "      <td>3200</td>\n",
       "      <td>8000</td>\n",
       "      <td>2.50</td>\n",
       "    </tr>\n",
       "  </tbody>\n",
       "</table>\n",
       "</div>"
      ],
      "text/plain": [
       "    Peso  Precios  Precio_por_Kg\n",
       "A1  3500    10000           2.86\n",
       "A2  3600    11000           3.06\n",
       "A3  3800    15000           3.95\n",
       "A4  3900    12000           3.08\n",
       "A5  3200     8000           2.50"
      ]
     },
     "execution_count": 53,
     "metadata": {},
     "output_type": "execute_result"
    }
   ],
   "source": [
    "autos"
   ]
  },
  {
   "cell_type": "code",
   "execution_count": 55,
   "metadata": {},
   "outputs": [
    {
     "data": {
      "text/plain": [
       "np.int64(58)"
      ]
     },
     "execution_count": 55,
     "metadata": {},
     "output_type": "execute_result"
    }
   ],
   "source": [
    "Numeros_series_2['quinto']"
   ]
  },
  {
   "cell_type": "code",
   "execution_count": 57,
   "metadata": {},
   "outputs": [
    {
     "data": {
      "text/plain": [
       "np.int64(58)"
      ]
     },
     "execution_count": 57,
     "metadata": {},
     "output_type": "execute_result"
    }
   ],
   "source": [
    "Numeros_series_2.loc['quinto']"
   ]
  },
  {
   "cell_type": "code",
   "execution_count": 60,
   "metadata": {},
   "outputs": [
    {
     "data": {
      "text/plain": [
       "np.int64(58)"
      ]
     },
     "execution_count": 60,
     "metadata": {},
     "output_type": "execute_result"
    }
   ],
   "source": [
    "Numeros_series_2.iloc[4]"
   ]
  },
  {
   "cell_type": "code",
   "execution_count": 68,
   "metadata": {},
   "outputs": [
    {
     "name": "stdout",
     "output_type": "stream",
     "text": [
      "    Precios  Precio_por_Kg\n",
      "A2    11000           3.06\n",
      "A3    15000           3.95\n",
      "A4    12000           3.08\n"
     ]
    }
   ],
   "source": [
    "autos_caros = autos.loc[autos['Precios'] > 10000, ['Precios', 'Precio_por_Kg']]\n",
    "print(autos_caros)"
   ]
  },
  {
   "cell_type": "code",
   "execution_count": 70,
   "metadata": {},
   "outputs": [],
   "source": [
    "Numeros_3=range(51,70,2)\n",
    "Numeros_en_texto = ['primero','segunto','tercero','cuarto','quinto','sexto','septimo','octavo','noveno','decimo']\n",
    "Numeros_serie_3=pd.Series(Numeros_3,index=Numeros_en_texto)"
   ]
  },
  {
   "cell_type": "code",
   "execution_count": 72,
   "metadata": {},
   "outputs": [
    {
     "name": "stdout",
     "output_type": "stream",
     "text": [
      "serie Orignal\n",
      "primero    51\n",
      "segunto    53\n",
      "tercero    55\n",
      "cuarto     57\n",
      "quinto     59\n",
      "sexto      61\n",
      "septimo    63\n",
      "octavo     65\n",
      "noveno     67\n",
      "decimo     69\n",
      "dtype: int64\n"
     ]
    }
   ],
   "source": [
    "print(\"serie Orignal\")\n",
    "print(Numeros_serie_3)"
   ]
  },
  {
   "cell_type": "code",
   "execution_count": 74,
   "metadata": {},
   "outputs": [
    {
     "name": "stdout",
     "output_type": "stream",
     "text": [
      "\n",
      " Serie con numeros al cuadrado:\n",
      "primero    2601\n",
      "segunto    2809\n",
      "tercero    3025\n",
      "cuarto     3249\n",
      "quinto     3481\n",
      "sexto      3721\n",
      "septimo    3969\n",
      "octavo     4225\n",
      "noveno     4489\n",
      "decimo     4761\n",
      "dtype: int64\n"
     ]
    }
   ],
   "source": [
    "Numeros_cuadrados = Numeros_serie_3 **2\n",
    "print(\"\\n Serie con numeros al cuadrado:\")\n",
    "print(Numeros_cuadrados)"
   ]
  },
  {
   "cell_type": "code",
   "execution_count": 84,
   "metadata": {},
   "outputs": [],
   "source": [
    "# Definir las listas de datos\n",
    "peso = [3583, 3627, 3561, 3880, 3814]\n",
    "largo = [179, 179, 192, 192, 180]\n",
    "modelos = ['A4 3.0 Quattro 4dr manual', 'A4 3.0 Quattro 4dr autos', 'A6 3.0 4dr', 'A6 3.0 Quattro 4dr', 'A4 3.0 convertible 2dr']"
   ]
  },
  {
   "cell_type": "code",
   "execution_count": 85,
   "metadata": {},
   "outputs": [],
   "source": [
    "# Crear el DataFrame\n",
    "Autos_2 = pd.DataFrame({'Peso': peso, 'Largo': largo}, index=modelos)"
   ]
  },
  {
   "cell_type": "code",
   "execution_count": 87,
   "metadata": {},
   "outputs": [],
   "source": [
    "Porcentaje_autos = Autos_2 / Autos_2.iloc[0] *100"
   ]
  },
  {
   "cell_type": "code",
   "execution_count": 89,
   "metadata": {},
   "outputs": [
    {
     "name": "stdout",
     "output_type": "stream",
     "text": [
      "\n",
      "Porcentaje con Respecto a la Primera Fila:\n",
      "                                 Peso       Largo\n",
      "A4 3.0 Quattro 4dr manual  100.000000  100.000000\n",
      "A4 3.0 Quattro 4dr autos   101.228021  100.000000\n",
      "A6 3.0 4dr                  99.385989  107.262570\n",
      "A6 3.0 Quattro 4dr         108.289143  107.262570\n",
      "A4 3.0 convertible 2dr     106.447111  100.558659\n"
     ]
    }
   ],
   "source": [
    "print(\"\\nPorcentaje con Respecto a la Primera Fila:\")\n",
    "print(Porcentaje_autos)"
   ]
  },
  {
   "cell_type": "code",
   "execution_count": 91,
   "metadata": {},
   "outputs": [],
   "source": [
    "# Definir dos Series con índices diferentes\n",
    "Numeros_en_texto_2 = ['primero', 'segundo', 'tercero', 'cuarto', 'quinto', 'sexto', 'séptimo', 'octavo', 'noveno', 'décimo'] \n",
    "Numeros_serie_2 = pd.Series([50, 52, 54, 56, 58, 60, 62, 64, 66, 68], index=Numeros_en_texto_2)"
   ]
  },
  {
   "cell_type": "code",
   "execution_count": 105,
   "metadata": {},
   "outputs": [],
   "source": [
    "Numeros_en_texto_3 = ['segundo', 'cuarto', 'quinto', 'sexto', 'octavo', 'décimo', 'undécimo'] \n",
    "Numeros_serie_3 = pd.Series([100, 200, 300, 400, 500, 600, 700], index=Numeros_en_texto_3)"
   ]
  },
  {
   "cell_type": "code",
   "execution_count": 102,
   "metadata": {},
   "outputs": [
    {
     "name": "stdout",
     "output_type": "stream",
     "text": [
      "Numeros_serie_2:\n",
      "primero    50\n",
      "segundo    52\n",
      "tercero    54\n",
      "cuarto     56\n",
      "quinto     58\n",
      "sexto      60\n",
      "séptimo    62\n",
      "octavo     64\n",
      "noveno     66\n",
      "décimo     68\n",
      "dtype: int64\n",
      "\n",
      "Numeros_serie_3:\n",
      "segundo     100\n",
      "cuarto      200\n",
      "quinto      300\n",
      "sexto       400\n",
      "octavo      500\n",
      "decimo      600\n",
      "undécimo    700\n",
      "dtype: int64\n"
     ]
    }
   ],
   "source": [
    "print(\"Numeros_serie_2:\")\n",
    "print(Numeros_serie_2)\n",
    "print(\"\\nNumeros_serie_3:\")\n",
    "print(Numeros_serie_3)"
   ]
  },
  {
   "cell_type": "code",
   "execution_count": 106,
   "metadata": {},
   "outputs": [],
   "source": [
    "Suma_Series = Numeros_serie_2 + Numeros_serie_3"
   ]
  },
  {
   "cell_type": "code",
   "execution_count": 108,
   "metadata": {},
   "outputs": [
    {
     "name": "stdout",
     "output_type": "stream",
     "text": [
      "\n",
      "Resultado de la Suma de las Series:\n",
      "cuarto      256.0\n",
      "décimo      668.0\n",
      "noveno        NaN\n",
      "octavo      564.0\n",
      "primero       NaN\n",
      "quinto      358.0\n",
      "segundo     152.0\n",
      "sexto       460.0\n",
      "séptimo       NaN\n",
      "tercero       NaN\n",
      "undécimo      NaN\n",
      "dtype: float64\n"
     ]
    }
   ],
   "source": [
    "# Mostrar el resultado de la suma\n",
    "print(\"\\nResultado de la Suma de las Series:\") \n",
    "print(Suma_Series)"
   ]
  },
  {
   "cell_type": "code",
   "execution_count": 110,
   "metadata": {},
   "outputs": [],
   "source": [
    "# Sumar las Series usando el método .add() \n",
    "Suma_Series_Add = Numeros_serie_2.add(Numeros_serie_3)"
   ]
  },
  {
   "cell_type": "code",
   "execution_count": 112,
   "metadata": {},
   "outputs": [
    {
     "name": "stdout",
     "output_type": "stream",
     "text": [
      "Resultado de la Suma con .add():\n",
      "cuarto      256.0\n",
      "décimo      668.0\n",
      "noveno        NaN\n",
      "octavo      564.0\n",
      "primero       NaN\n",
      "quinto      358.0\n",
      "segundo     152.0\n",
      "sexto       460.0\n",
      "séptimo       NaN\n",
      "tercero       NaN\n",
      "undécimo      NaN\n",
      "dtype: float64\n"
     ]
    }
   ],
   "source": [
    "# Mostrar el resultado de la suma\n",
    "print(\"Resultado de la Suma con .add():\") \n",
    "print(Suma_Series_Add)"
   ]
  },
  {
   "cell_type": "code",
   "execution_count": 114,
   "metadata": {},
   "outputs": [
    {
     "name": "stdout",
     "output_type": "stream",
     "text": [
      "\n",
      "Resultado de la Suma con .add() y fill_value:\n",
      "cuarto      256.0\n",
      "décimo      668.0\n",
      "noveno       66.0\n",
      "octavo      564.0\n",
      "primero      50.0\n",
      "quinto      358.0\n",
      "segundo     152.0\n",
      "sexto       460.0\n",
      "séptimo      62.0\n",
      "tercero      54.0\n",
      "undécimo    700.0\n",
      "dtype: float64\n"
     ]
    }
   ],
   "source": [
    "# Sumar las Series usando el método .add() con fill_value\n",
    "Suma_Series_Add_Fill = Numeros_serie_2.add(Numeros_serie_3, fill_value=0)\n",
    "# Mostrar el resultado de la suma con fill_value\n",
    "print(\"\\nResultado de la Suma con .add() y fill_value:\")\n",
    "print(Suma_Series_Add_Fill)"
   ]
  },
  {
   "cell_type": "code",
   "execution_count": 116,
   "metadata": {},
   "outputs": [
    {
     "name": "stdout",
     "output_type": "stream",
     "text": [
      "Numeros_serie_2_porcion:\n",
      "quinto     58\n",
      "sexto      60\n",
      "séptimo    62\n",
      "dtype: int64\n",
      "\n",
      "Numeros_serie_3_porcion:\n",
      "décimo      600\n",
      "undécimo    700\n",
      "dtype: int64\n",
      "\n",
      "Suma de las porciones:\n",
      "décimo     NaN\n",
      "quinto     NaN\n",
      "sexto      NaN\n",
      "séptimo    NaN\n",
      "undécimo   NaN\n",
      "dtype: float64\n"
     ]
    }
   ],
   "source": [
    "# Crear porciones de las Series\n",
    "Numeros_serie_2_porcion = Numeros_serie_2[4:7]\n",
    "Numeros_serie_3_porcion = Numeros_serie_3[5:8]\n",
    "# Mostrar las porciones\n",
    "print(\"Numeros_serie_2_porcion:\")\n",
    "print(Numeros_serie_2_porcion)\n",
    "print(\"\\nNumeros_serie_3_porcion:\")\n",
    "print(Numeros_serie_3_porcion)\n",
    "\n",
    "# Sumar las porciones\n",
    "Suma_Porciones = Numeros_serie_2_porcion + Numeros_serie_3_porcion\n",
    "print(\"\\nSuma de las porciones:\")\n",
    "print(Suma_Porciones)"
   ]
  },
  {
   "cell_type": "code",
   "execution_count": 118,
   "metadata": {},
   "outputs": [
    {
     "name": "stdout",
     "output_type": "stream",
     "text": [
      "décimo      600.0\n",
      "quinto       58.0\n",
      "sexto        60.0\n",
      "séptimo      62.0\n",
      "undécimo    700.0\n",
      "dtype: float64\n"
     ]
    }
   ],
   "source": [
    "# Sumar las porciones con fill_value=0\n",
    "Suma_Porciones = Numeros_serie_2_porcion.add(Numeros_serie_3_porcion, fill_value=0)\n",
    "print(Suma_Porciones)"
   ]
  },
  {
   "cell_type": "code",
   "execution_count": 120,
   "metadata": {},
   "outputs": [
    {
     "name": "stdout",
     "output_type": "stream",
     "text": [
      "0    15.0\n",
      "1     NaN\n",
      "2    35.0\n",
      "dtype: float64\n"
     ]
    }
   ],
   "source": [
    "# Crear una Serie con un valor NaN\n",
    "serie = pd.Series([10, np.nan, 30])\n",
    "# Sumar 5 a la Serie\n",
    "resultado = serie + 5\n",
    "print(resultado)"
   ]
  },
  {
   "cell_type": "code",
   "execution_count": 122,
   "metadata": {},
   "outputs": [
    {
     "name": "stdout",
     "output_type": "stream",
     "text": [
      "False\n"
     ]
    }
   ],
   "source": [
    "#Comparar Nan con Nan\n",
    "print(np.nan == np.nan)"
   ]
  },
  {
   "cell_type": "code",
   "execution_count": 124,
   "metadata": {},
   "outputs": [
    {
     "name": "stdout",
     "output_type": "stream",
     "text": [
      "0    False\n",
      "1     True\n",
      "2    False\n",
      "dtype: bool\n"
     ]
    }
   ],
   "source": [
    "#Detectar Nan en suna Serie\n",
    "print(serie.isna())"
   ]
  },
  {
   "cell_type": "code",
   "execution_count": 126,
   "metadata": {},
   "outputs": [
    {
     "name": "stdout",
     "output_type": "stream",
     "text": [
      "0    10.0\n",
      "1     0.0\n",
      "2    30.0\n",
      "dtype: float64\n"
     ]
    }
   ],
   "source": [
    "# Reemplazar NaN con un valor específico\n",
    "serie_limpia = serie.fillna(0)\n",
    "print(serie_limpia)"
   ]
  },
  {
   "cell_type": "code",
   "execution_count": 128,
   "metadata": {},
   "outputs": [
    {
     "name": "stdout",
     "output_type": "stream",
     "text": [
      "nan\n"
     ]
    }
   ],
   "source": [
    "# Crear un valor NaN\n",
    "valor_nan = np.nan\n",
    "# Operar con NaN\n",
    "resultado = 2 * valor_nan\n",
    "print(resultado)"
   ]
  },
  {
   "cell_type": "code",
   "execution_count": 130,
   "metadata": {},
   "outputs": [
    {
     "name": "stdout",
     "output_type": "stream",
     "text": [
      "<class 'float'>\n"
     ]
    }
   ],
   "source": [
    "print(type(valor_nan))"
   ]
  },
  {
   "cell_type": "code",
   "execution_count": 135,
   "metadata": {},
   "outputs": [
    {
     "name": "stdout",
     "output_type": "stream",
     "text": [
      "2.0\n"
     ]
    }
   ],
   "source": [
    "# Calcula el producto de una lista con Nan\n",
    "resultado = np.nanprod([2,valor_nan])\n",
    "print(resultado)\n",
    "print(type(resultado))"
   ]
  },
  {
   "cell_type": "markdown",
   "metadata": {},
   "source": [
    "# Lectura de Archivos"
   ]
  },
  {
   "cell_type": "markdown",
   "metadata": {},
   "source": [
    "#Leer archivo de csv"
   ]
  },
  {
   "cell_type": "code",
   "execution_count": 137,
   "metadata": {},
   "outputs": [
    {
     "name": "stdout",
     "output_type": "stream",
     "text": [
      "   density    pH  sulphates  alcohol  quality\n",
      "0   0.9978  3.51       0.56      9.4        5\n",
      "1   0.9968  3.20       0.68      9.8        5\n",
      "2   0.9970  3.26       0.65      9.8        5\n",
      "3   0.9980  3.16       0.58      9.8        6\n",
      "4   0.9978  3.51       0.56      9.4        5\n"
     ]
    }
   ],
   "source": [
    "# Leer el archivo CSV\n",
    "df = pd.read_csv('winequality-red.csv', sep=',')\n",
    "# Mostrar las primeras filas del DataFrame con las columnas específicas\n",
    "print(df[['density', 'pH', 'sulphates', 'alcohol', 'quality']].head())"
   ]
  },
  {
   "cell_type": "code",
   "execution_count": 157,
   "metadata": {},
   "outputs": [
    {
     "name": "stdout",
     "output_type": "stream",
     "text": [
      "   index    ID  Year_Birth   Education   Income\n",
      "0      0  5524        1957  Graduation  58138.0\n",
      "1      1  2174        1954  Graduation  46344.0\n",
      "2      2  4141        1965  Graduation  71613.0\n",
      "3      3  6182        1984  Graduation  26646.0\n",
      "4      4  5324        1981         PhD  58293.0\n"
     ]
    }
   ],
   "source": [
    "import pandas as pd\n",
    "import numpy as np\n",
    "df = pd.read_excel('defaultoutput.xlsx')\n",
    "# Mostrar las primeras filas del DataFrame con las columnas específicas\n",
    "print(df[['index', 'ID', 'Year_Birth', 'Education', 'Income']].head())"
   ]
  },
  {
   "cell_type": "code",
   "execution_count": 160,
   "metadata": {},
   "outputs": [
    {
     "name": "stdout",
     "output_type": "stream",
     "text": [
      "                 AMZN    MCD  SBUX   GOOG  MSFT\n",
      "formatted_date                                 \n",
      "2016-01-01      587.0  106.3  54.4  743.0  49.9\n",
      "2016-02-01      552.5  100.7  52.1  697.8  46.0\n",
      "2016-03-01      593.6  108.8  53.6  745.0  50.3\n",
      "2016-04-01      659.6  109.5  50.5  693.0  45.5\n",
      "2016-05-01      722.8  105.6  49.3  735.7  48.3\n"
     ]
    }
   ],
   "source": [
    "import requests\n",
    "# URL del archivo CSV\n",
    "url = 'https://raw.githubusercontent.com/JJTorresDS/stocks-ds-edu/main/stocks.csv'\n",
    "# Leer el archivo CSV desde la URL\n",
    "df = pd.read_csv(url, index_col=0)\n",
    "# Mostrar las primeras 5 filas de las columnas especificadas, redondeadas a 1 decimal\n",
    "print(df[['AMZN', 'MCD', 'SBUX', 'GOOG', 'MSFT']].head(5).round(1))"
   ]
  },
  {
   "cell_type": "code",
   "execution_count": 162,
   "metadata": {},
   "outputs": [
    {
     "name": "stdout",
     "output_type": "stream",
     "text": [
      "Shape:  (159, 16)\n",
      "  manufact    model   sales  resale   type   price engine_s horsepow wheelbas  \\\n",
      "0    Acura  Integra  16.919  16.360  0.000  21.500    1.800  140.000  101.200   \n",
      "1    Acura       TL  39.384  19.875  0.000  28.400    3.200  225.000  108.100   \n",
      "2    Acura       CL  14.114  18.225  0.000  $null$    3.200  225.000  106.900   \n",
      "3    Acura       RL   8.588  29.725  0.000  42.000    3.500  210.000  114.600   \n",
      "4     Audi       A4  20.397  22.255  0.000  23.990    1.800  150.000  102.600   \n",
      "\n",
      "    width   length curb_wgt fuel_cap     mpg lnsales  partition  \n",
      "0  67.300  172.400    2.639   13.200  28.000   2.828        0.0  \n",
      "1  70.300  192.900    3.517   17.200  25.000   3.673        0.0  \n",
      "2  70.600  192.000    3.470   17.200  26.000   2.647        0.0  \n",
      "3  71.400  196.600    3.850   18.000  22.000   2.150        0.0  \n",
      "4  68.200  178.000    2.998   16.400  27.000   3.015        0.0  \n"
     ]
    }
   ],
   "source": [
    "import requests\n",
    "# URL del archivo CSV\n",
    "url = 'https://s3-api.us-geo.objectstorage.softlayer.net/cf-courses-data/CognitiveClass/ML0101ENv3/labs/cars_clus.csv'\n",
    "# Descargar el archivo CSV usando requests\n",
    "response = requests.get(url)\n",
    "# Verificar que la solicitud fue exitosa\n",
    "if response.status_code == 200:\n",
    "    # Guardar el contenido en un archivo local\n",
    "    with open('cars_clus.csv', 'wb') as file:\n",
    "        file.write(response.content)\n",
    "    \n",
    "    # Leer el archivo CSV usando pandas\n",
    "    pdf = pd.read_csv('cars_clus.csv')\n",
    "    # Imprimir la forma del DataFrame y las primeras 5 filas\n",
    "    print(\"Shape: \", pdf.shape)\n",
    "    print(pdf.head(5))\n",
    "else:\n",
    "    print(\"Error al descargar el archivo. Código de estado:\", response.status_code)"
   ]
  },
  {
   "cell_type": "markdown",
   "metadata": {},
   "source": [
    "# Arrays"
   ]
  },
  {
   "cell_type": "code",
   "execution_count": 165,
   "metadata": {},
   "outputs": [
    {
     "name": "stdout",
     "output_type": "stream",
     "text": [
      "[1 2 3 4 5] \n",
      "\n",
      "[[1 2 3]\n",
      " [4 5 6]\n",
      " [7 8 9]] \n",
      "\n",
      "[[[1 2]\n",
      "  [3 4]]\n",
      "\n",
      " [[5 6]\n",
      "  [7 8]]] \n",
      "\n"
     ]
    }
   ],
   "source": [
    "array_1d = np.array([1, 2, 3, 4, 5])\n",
    "print(array_1d,'\\n')\n",
    "array_2d = np.array([[1, 2, 3], [4, 5, 6], [7, 8, 9]])\n",
    "print(array_2d,'\\n')\n",
    "array_3d = np.array([[[1, 2], [3, 4]], [[5, 6], [7, 8]]])\n",
    "print(array_3d,'\\n')"
   ]
  },
  {
   "cell_type": "markdown",
   "metadata": {},
   "source": [
    "# Creación de ndarrays"
   ]
  },
  {
   "cell_type": "code",
   "execution_count": 170,
   "metadata": {},
   "outputs": [
    {
     "name": "stdout",
     "output_type": "stream",
     "text": [
      "[0 1 2 3 4 5 6 7 8 9]\n"
     ]
    },
    {
     "data": {
      "text/plain": [
       "array([0, 0, 0, 0, 0, 0, 0, 0, 0, 0])"
      ]
     },
     "execution_count": 170,
     "metadata": {},
     "output_type": "execute_result"
    }
   ],
   "source": [
    "# Crear un ndarray usando np.array() con un rango de números\n",
    "Npa = np.array(range(10))\n",
    "# Mostrar el array\n",
    "print(Npa)\n",
    "Np_cero = np.zeros(10)\n",
    "Np_cero\n",
    "\n"
   ]
  },
  {
   "cell_type": "code",
   "execution_count": 171,
   "metadata": {},
   "outputs": [
    {
     "data": {
      "text/plain": [
       "array([256, 256, 256, 256, 256, 256, 256, 256, 256, 256])"
      ]
     },
     "execution_count": 171,
     "metadata": {},
     "output_type": "execute_result"
    }
   ],
   "source": [
    "Np_relleno = np.full(10,256)\n",
    "Np_relleno"
   ]
  },
  {
   "cell_type": "code",
   "execution_count": 175,
   "metadata": {},
   "outputs": [
    {
     "name": "stdout",
     "output_type": "stream",
     "text": [
      "[1. 1. 1. 1. 1. 1. 1. 1. 1. 1.]\n"
     ]
    }
   ],
   "source": [
    "Np_uno = np.ones(10)\n",
    "Np_uno\n",
    "print(Np_uno)"
   ]
  },
  {
   "cell_type": "code",
   "execution_count": 176,
   "metadata": {},
   "outputs": [
    {
     "data": {
      "text/plain": [
       "array([0, 0, 0, 0, 0, 0, 0, 0, 0, 0])"
      ]
     },
     "execution_count": 176,
     "metadata": {},
     "output_type": "execute_result"
    }
   ],
   "source": [
    "Np_cero_int = np.zeros(10, dtype=int)\n",
    "Np_cero_int"
   ]
  },
  {
   "cell_type": "code",
   "execution_count": 178,
   "metadata": {},
   "outputs": [
    {
     "name": "stdout",
     "output_type": "stream",
     "text": [
      "[0 1 2 3 4 5 6 7 8 9]\n"
     ]
    }
   ],
   "source": [
    "Np_rango = np.arange(10)\n",
    "print(Np_rango)"
   ]
  },
  {
   "cell_type": "code",
   "execution_count": 185,
   "metadata": {},
   "outputs": [
    {
     "name": "stdout",
     "output_type": "stream",
     "text": [
      "[[2 5 1 3]\n",
      " [3 4 8 9]\n",
      " [5 3 7 7]]\n"
     ]
    }
   ],
   "source": [
    "Np_random_dimensiones = np.random.randint(10, size=(3, 4))\n",
    "print(Np_random_dimensiones)\n",
    "\n",
    "# Crear un array de números de punto flotante\n",
    "arr = np.array([1.1, 2.1, 3.1])\n",
    "\n",
    "# Convertir el tipo de dato del array a entero\n",
    "newarr = arr.astype('i') # Imprimir el nuevo array y su tipo de dato print(newarr) print(newarr.dtype)"
   ]
  },
  {
   "cell_type": "code",
   "execution_count": 186,
   "metadata": {},
   "outputs": [
    {
     "name": "stdout",
     "output_type": "stream",
     "text": [
      "[[2 9 4 5]\n",
      " [0 0 8 9]\n",
      " [2 0 2 2]]\n",
      "Forma de Np_random_dimensiones: (3, 4)\n",
      "Tamaño de Np_random_dimensiones: 12\n",
      "Tipo de dato de Np_cero: float64\n",
      "Tipo de dato de Np_cero_int: int64\n",
      "Tamaño de cada elemento en Np_random_dimensiones: 4\n"
     ]
    }
   ],
   "source": [
    "# Crear un array de dos dimensiones con valores enteros aleatorios\n",
    "Np_random_dimensiones = np.random.randint(10, size=(3, 4))\n",
    "# Imprimir el array\n",
    "print(Np_random_dimensiones)\n",
    "# Ver la forma del array\n",
    "print(\"Forma de Np_random_dimensiones:\", Np_random_dimensiones.shape)\n",
    "# Ver el tamaño del array\n",
    "print(\"Tamaño de Np_random_dimensiones:\", Np_random_dimensiones.size)\n",
    "# Crear arrays con diferentes tipos de datos\n",
    "Np_cero = np.zeros(10)\n",
    "Np_cero_int = np.zeros(10, dtype=int)\n",
    "\n",
    "# Ver el tipo de dato\n",
    "print(\"Tipo de dato de Np_cero:\", Np_cero.dtype)\n",
    "print(\"Tipo de dato de Np_cero_int:\", Np_cero_int.dtype)\n",
    "# Ver el tamaño del elemento en bytes\n",
    "print(\"Tamaño de cada elemento en Np_random_dimensiones:\", Np_random_dimensiones.itemsize)"
   ]
  },
  {
   "cell_type": "code",
   "execution_count": 188,
   "metadata": {},
   "outputs": [
    {
     "name": "stdout",
     "output_type": "stream",
     "text": [
      "[[ 1  2  3  4  5  6  7  8]\n",
      " [ 9 10 11 12 13 14 15 16]\n",
      " [17 18 19 20 21 22 23 24]\n",
      " [25 26 27 28 29 30 31 32]\n",
      " [33 34 35 36 37 38 39 40]\n",
      " [41 42 43 44 45 46 47 48]\n",
      " [49 50 51 52 53 54 55 56]\n",
      " [57 58 59 60 61 62 63 64]]\n"
     ]
    }
   ],
   "source": [
    "# Crear un arreglo con números del 1 al 64\n",
    "numeros = np.arange(1, 65)\n",
    "# Cambiar la forma del arreglo a una grilla de 8x8\n",
    "grilla = numeros.reshape(8, 8)\n",
    "# Mostrar el resultado\n",
    "print(grilla)"
   ]
  },
  {
   "cell_type": "code",
   "execution_count": 190,
   "metadata": {},
   "outputs": [
    {
     "name": "stdout",
     "output_type": "stream",
     "text": [
      "Array_concatenados: [ 1  2  3  4  5  6  7  8  9 10]\n",
      "Array_partido: [array([1, 2]), array([ 3,  4,  5,  6,  7,  8,  9, 10])]\n",
      "Parte_1: [1 2]\n",
      "Parte_2: [3 4 5 6 7 8]\n",
      "Parte_3: [ 9 10]\n"
     ]
    }
   ],
   "source": [
    "# Crear un arreglo concatenado\n",
    "Arrays_concatenados = np.array([1, 2, 3, 4, 5, 6, 7, 8, 9, 10])\n",
    "\n",
    "# Dividir en dos partes usando un punto de corte\n",
    "Array_partido = np.split(Arrays_concatenados, [2])\n",
    "\n",
    "print(\"Array_concatenados:\", Arrays_concatenados)\n",
    "print(\"Array_partido:\", Array_partido)\n",
    "\n",
    "# Crear un arreglo concatenado\n",
    "Arrays_concatenados = np.array([1, 2, 3, 4, 5, 6, 7, 8, 9, 10])\n",
    "\n",
    "# Dividir en tres partes usando dos puntos de corte\n",
    "Array_partido_2 = np.split(Arrays_concatenados, [2, 8])\n",
    "\n",
    "# Asignar a variables distintas\n",
    "Parte_1, Parte_2, Parte_3 = Array_partido_2\n",
    "\n",
    "print(\"Parte_1:\", Parte_1)\n",
    "print(\"Parte_2:\", Parte_2)\n",
    "print(\"Parte_3:\", Parte_3)"
   ]
  }
 ],
 "metadata": {
  "kernelspec": {
   "display_name": "Python 3",
   "language": "python",
   "name": "python3"
  },
  "language_info": {
   "codemirror_mode": {
    "name": "ipython",
    "version": 3
   },
   "file_extension": ".py",
   "mimetype": "text/x-python",
   "name": "python",
   "nbconvert_exporter": "python",
   "pygments_lexer": "ipython3",
   "version": "3.12.4"
  }
 },
 "nbformat": 4,
 "nbformat_minor": 2
}
